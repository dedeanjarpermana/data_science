{
 "cells": [
  {
   "cell_type": "code",
   "execution_count": 39,
   "metadata": {},
   "outputs": [],
   "source": [
    " Regressi dengan menggunakan metoda least square \n",
    "# https://medium.com/@jrendz/regresi-linier-dengan-r-dan-python-ebb80662c6da\n",
    "import numpy as np\n",
    "import pandas as pd\n",
    "import stat\n",
    "from matplotlib import pyplot as plt\n",
    "from sklearn.linear_model import LinearRegression\n",
    "\n",
    "tinggi_badan = [151,174,138,186,128,136,179,163,152,131]\n",
    "berat_badan = [63, 81, 56, 91, 47, 57, 76, 72, 62, 48]\n",
    "mean_bb = np.mean(berat_badan)\n",
    "#print(mean_bb)\n",
    "mean_tb = np.mean(tinggi_badan)\n",
    "#print(mean_tb)\n",
    "df_TB = pd.DataFrame(tinggi_badan, columns =['tinggi_badan'])\n",
    "df_BB = pd.DataFrame(berat_badan, columns =['berat_badan'])\n",
    "framesTB_BB = [df_TB, df_BB]\n",
    "#menggabungkan data frame tinggi badan dan berat badan\n",
    "gabungTB_BB = pd.concat(framesTB_BB, axis=1, join=\"inner\")"
   ]
  },
  {
   "cell_type": "code",
   "execution_count": 3,
   "metadata": {},
   "outputs": [
    {
     "name": "stdout",
     "output_type": "stream",
     "text": [
      "rata-rata tinggi badan: 153.8\n",
      "rata-rata berat badan 65.3\n",
      "sigma xi - mean TB-BB kuadrat 2649.6\n",
      "sigma xi - mean TB kuadrat 3927.600000000001\n",
      "sigma xi - mean BB kuadrat 1872.1\n",
      "hasil perkalian antara x dan y 7352859.960000001\n",
      "akar dari perkalian antara x dan y 2711.615747114624\n",
      "korelas pearsen 0.9771295961897943\n"
     ]
    }
   ],
   "source": [
    "# proses ini untuk mencari korelasi pearson \n",
    "# diambil dari https://medium.com/@jrendz/regresi-linier-dengan-r-dan-python-ebb80662c6da\n",
    "gabungTB_BB['xi-meanTB'] = mean_tb - gabungTB_BB['tinggi_badan']\n",
    "gabungTB_BB['xi-meanBB'] = mean_bb - gabungTB_BB['berat_badan']\n",
    "gabungTB_BB['kuadrat_xi-meanTB'] = gabungTB_BB['xi-meanTB'] * gabungTB_BB['xi-meanTB'] \n",
    "gabungTB_BB['kuadrat_xi-meanBB'] = gabungTB_BB['xi-meanBB'] * gabungTB_BB['xi-meanBB'] \n",
    "gabungTB_BB['hasil_kali_xi_meanTB_BB']= gabungTB_BB['xi-meanTB']*gabungTB_BB['xi-meanBB']\n",
    "sigma_xi_meanTB_BB = sum(gabungTB_BB['hasil_kali_xi_meanTB_BB'])\n",
    "sigma_xi_meanTB_kuadrat = sum(gabungTB_BB['kuadrat_xi-meanTB'])\n",
    "sigma_xi_meanBB_kuadrat = sum(gabungTB_BB['kuadrat_xi-meanBB'])\n",
    "perkalian_A_B = sigma_xi_meanTB_kuadrat * sigma_xi_meanBB_kuadrat\n",
    "akar_perkalian_A_B = np.sqrt(perkalian_A_B)\n",
    "korelasi = sigma_xi_meanTB_BB / akar_perkalian_A_B \n",
    "\n",
    "print(\"rata-rata tinggi badan:\", mean_tb)\n",
    "print(\"rata-rata berat badan\",mean_bb)\n",
    "\n",
    "#print(gabungTB_BB)\n",
    "print(\"sigma xi - mean TB-BB kuadrat\", sigma_xi_meanTB_BB)\n",
    "print(\"sigma xi - mean TB kuadrat\", sigma_xi_meanTB_kuadrat)\n",
    "print(\"sigma xi - mean BB kuadrat\", sigma_xi_meanBB_kuadrat)\n",
    "print(\"hasil perkalian antara x dan y\",perkalian_A_B)\n",
    "print(\"akar dari perkalian antara x dan y\",akar_perkalian_A_B)\n",
    "print(\"korelas pearsen\", korelasi)"
   ]
  },
  {
   "cell_type": "code",
   "execution_count": 4,
   "metadata": {},
   "outputs": [
    {
     "name": "stdout",
     "output_type": "stream",
     "text": [
      "slope :  0.6746104491292391\n",
      "intercept :  -38.45508707607698\n"
     ]
    }
   ],
   "source": [
    "#mencari a(slope)\n",
    "a = sigma_xi_meanTB_BB / sigma_xi_meanTB_kuadrat\n",
    "\n",
    "#mencari intersept\n",
    "\n",
    "b = mean_bb - a * mean_tb\n",
    "print (\"slope : \", a)\n",
    "print (\"intercept : \", b)"
   ]
  },
  {
   "cell_type": "code",
   "execution_count": 5,
   "metadata": {},
   "outputs": [],
   "source": [
    "x_train = gabungTB_BB['tinggi_badan'].values[:,np.newaxis]\n",
    "y_train = gabungTB_BB['berat_badan'].values\n"
   ]
  },
  {
   "cell_type": "code",
   "execution_count": 6,
   "metadata": {},
   "outputs": [
    {
     "name": "stdout",
     "output_type": "stream",
     "text": [
      "Coefficient :[0.67461045]\n",
      "Intercept :-38.45508707607698\n"
     ]
    }
   ],
   "source": [
    "lm = LinearRegression()\n",
    "lm.fit(x_train,y_train) #fase training\n",
    "print('Coefficient :' + str(lm.coef_))\n",
    "print('Intercept :' + str(lm.intercept_))"
   ]
  },
  {
   "cell_type": "code",
   "execution_count": 22,
   "metadata": {},
   "outputs": [
    {
     "name": "stdout",
     "output_type": "stream",
     "text": [
      "72.85563703024746\n",
      "42.4981668194317\n"
     ]
    }
   ],
   "source": [
    "\n",
    "x_test = [[170],[171]] #data yang akan diprediks\n",
    "prediksi_1 = a * 165 + b\n",
    "prediksi_2 = a * 120 + b\n",
    "print (prediksi_1)\n",
    "print(prediksi_2)"
   ]
  },
  {
   "cell_type": "code",
   "execution_count": 25,
   "metadata": {},
   "outputs": [
    {
     "name": "stdout",
     "output_type": "stream",
     "text": [
      "[76.22868928 76.90329973]\n"
     ]
    },
    {
     "data": {
      "image/png": "[encoded data removed]",
      "text/plain": [
       "<Figure size 432x288 with 1 Axes>"
      ]
     },
     "metadata": {
      "needs_background": "light"
     },
     "output_type": "display_data"
    }
   ],
   "source": [
    "p = lm.predict(x_test) #fase prediksi\n",
    "print(p) #hasil prediksi\n",
    "#prepare plot\n",
    "pb = lm.predict(x_train)\n",
    "dfc = pd.DataFrame({'x': gabungTB_BB['tinggi_badan'],'y':pb})\n",
    "plt.scatter(gabungTB_BB['tinggi_badan'],gabungTB_BB['berat_badan'])\n",
    "plt.plot(dfc['x'],dfc['y'],color='red',linewidth=1)\n",
    "plt.xlabel('Tinggi dalam cm')\n",
    "plt.ylabel('Berat dalam Kg')\n",
    "plt.show()"
   ]
  },
  {
   "cell_type": "code",
   "execution_count": 16,
   "metadata": {},
   "outputs": [],
   "source": [
    "import numpy as np\n",
    "import pandas as pd\n",
    "import stat\n",
    "from matplotlib import pyplot as plt\n",
    "from sklearn import linear_model\n",
    "\n",
    "tb = [151,174,138,186,128,136,179,163,152,131]\n",
    "bb = [63, 81, 56, 91, 47, 57, 76, 72, 62, 48]\n",
    "\n",
    "df_TB = pd.DataFrame(tb, columns =['tinggi_badan'])\n",
    "df_BB = pd.DataFrame(bb, columns =['berat_badan'])\n",
    "framesTB_BB = [df_TB, df_BB]\n",
    "\n",
    "df = pd.concat(framesTB_BB, axis=1, join=\"inner\")"
   ]
  },
  {
   "cell_type": "code",
   "execution_count": 17,
   "metadata": {},
   "outputs": [
    {
     "name": "stdout",
     "output_type": "stream",
     "text": [
      "   tinggi_badan  berat_badan\n",
      "0           151           63\n",
      "1           174           81\n",
      "2           138           56\n",
      "3           186           91\n",
      "4           128           47\n",
      "5           136           57\n",
      "6           179           76\n",
      "7           163           72\n",
      "8           152           62\n",
      "9           131           48\n"
     ]
    }
   ],
   "source": [
    "print(df)"
   ]
  },
  {
   "cell_type": "code",
   "execution_count": 19,
   "metadata": {},
   "outputs": [
    {
     "data": {
      "text/plain": [
       "<matplotlib.collections.PathCollection at 0x1a203b6f50>"
      ]
     },
     "execution_count": 19,
     "metadata": {},
     "output_type": "execute_result"
    },
    {
     "data": {
      "image/png": "[encoded data removed]",
      "text/plain": [
       "<Figure size 432x288 with 1 Axes>"
      ]
     },
     "metadata": {
      "needs_background": "light"
     },
     "output_type": "display_data"
    }
   ],
   "source": [
    "%matplotlib inline\n",
    "plt.xlabel(\"tinggi badan\")\n",
    "plt.ylabel (\"berat badan\")\n",
    "plt.scatter(df.tinggi_badan, df.berat_badan)"
   ]
  },
  {
   "cell_type": "code",
   "execution_count": 32,
   "metadata": {},
   "outputs": [
    {
     "data": {
      "text/plain": [
       "LinearRegression(copy_X=True, fit_intercept=True, n_jobs=None, normalize=False)"
      ]
     },
     "execution_count": 32,
     "metadata": {},
     "output_type": "execute_result"
    }
   ],
   "source": [
    "reg=linear_model.LinearRegression()\n",
    "reg.fit(df[[\"tinggi_badan\"]], df.berat_badan)"
   ]
  },
  {
   "cell_type": "raw",
   "metadata": {},
   "source": [
    "reg.predict(165)"
   ]
  },
  {
   "cell_type": "code",
   "execution_count": 38,
   "metadata": {},
   "outputs": [
    {
     "name": "stdout",
     "output_type": "stream",
     "text": [
      "[76.22868928 76.90329973]\n"
     ]
    },
    {
     "data": {
      "image/png": "[encoded data removed]",
      "text/plain": [
       "<Figure size 432x288 with 1 Axes>"
      ]
     },
     "metadata": {
      "needs_background": "light"
     },
     "output_type": "display_data"
    }
   ],
   "source": [
    "p = lm.predict(x_test) #fase prediksi\n",
    "print(p) #hasil prediksi\n",
    "#prepare plot\n",
    "pb = lm.predict(x_train)\n",
    "dfc = pd.DataFrame({'x': df['tinggi_badan'],'y':pb})\n",
    "plt.scatter(df['tinggi_badan'],df['berat_badan'])\n",
    "plt.plot(dfc['x'],dfc['y'],color='red',linewidth=1)\n",
    "plt.xlabel('Tinggi dalam cm', fontsize=30)\n",
    "plt.ylabel('Berat dalam Kg', fontsize=30)\n",
    "plt.show()"
   ]
  },
  {
   "cell_type": "code",
   "execution_count": 40,
   "metadata": {},
   "outputs": [],
   "source": [
    "# evaluasi dengan RMSE"
   ]
  },
  {
   "cell_type": "code",
   "execution_count": 49,
   "metadata": {},
   "outputs": [],
   "source": [
    "N = len (df.tinggi_badan)\n",
    "y_actual = df[\"berat_badan\"]\n",
    "y_pred = a * df[\"tinggi_badan\"] + b\n",
    "# untuk ngecek datanya muncul atau tidak bisa di pritn y_prediksinua\n",
    "#print (y_pred)"
   ]
  },
  {
   "cell_type": "code",
   "execution_count": 51,
   "metadata": {},
   "outputs": [],
   "source": [
    "# mengurangi y prediiksi dikurangi y actual \n",
    "y_pred_minus_y_actual  = y_pred - y_actual"
   ]
  },
  {
   "cell_type": "code",
   "execution_count": 53,
   "metadata": {},
   "outputs": [],
   "source": [
    "# membuat kuadrat dari hasil y_pred -  y actual\n",
    "y_pred_minus_y_actual_square = y_pred_minus_y_actual * y_pred_minus_y_actual"
   ]
  },
  {
   "cell_type": "code",
   "execution_count": 56,
   "metadata": {},
   "outputs": [],
   "source": [
    "RMSE = np.sqrt(np.sum(y_pred_minus_y_actual_square )/N)"
   ]
  },
  {
   "cell_type": "code",
   "execution_count": 57,
   "metadata": {},
   "outputs": [
    {
     "name": "stdout",
     "output_type": "stream",
     "text": [
      "2.9095043218247274\n"
     ]
    }
   ],
   "source": [
    "print (RMSE)"
   ]
  },
  {
   "cell_type": "code",
   "execution_count": 61,
   "metadata": {},
   "outputs": [],
   "source": [
    "# semakin kecil nilai RMSE adalah semakin akurat model prediksi yang kita buat, \n",
    "# jika nilai RMSE 0, maka keakuratannya 100 %"
   ]
  },
  {
   "cell_type": "code",
   "execution_count": 62,
   "metadata": {},
   "outputs": [
    {
     "name": "stdout",
     "output_type": "stream",
     "text": [
      "   ukuran  harga\n",
      "0    17.5     30\n",
      "1    24.7     36\n",
      "2    15.7     25\n",
      "3    18.0     29\n",
      "4    27.0     32\n"
     ]
    },
    {
     "data": {
      "image/png": "[encoded data removed]",
      "text/plain": [
       "<Figure size 432x288 with 1 Axes>"
      ]
     },
     "metadata": {
      "needs_background": "light"
     },
     "output_type": "display_data"
    }
   ],
   "source": [
    "# data baru\n",
    "\n",
    "from matplotlib import pyplot as plt\n",
    "\n",
    "data = {\"ukuran\": [17.5,24.7, 15.7, 18,27 ],\n",
    "       \"harga\" :[30,36, 25, 29, 32]}\n",
    "\n",
    "df = pd.DataFrame(data)\n",
    "\n",
    "print (df)\n",
    "\n",
    "plt.scatter (df['ukuran'], df['harga'])\n",
    "plt.xlabel (\"ukuran ikan\")\n",
    "plt.ylabel (\"harga ikan\")\n",
    "plt.show()\n",
    "x_mean = np.mean(df['ukuran'])\n",
    "y_mean= np.mean(df['harga'])"
   ]
  },
  {
   "cell_type": "code",
   "execution_count": 64,
   "metadata": {},
   "outputs": [
    {
     "name": "stdout",
     "output_type": "stream",
     "text": [
      "64.53999999999999\n",
      "98.148\n"
     ]
    }
   ],
   "source": [
    "nominator = np.sum((df['ukuran']-x_mean) * (df['harga']-y_mean))\n",
    "denominator = np.sum(pow(df['ukuran']-x_mean,2))\n",
    "print (nominator)\n",
    "print (denominator)"
   ]
  },
  {
   "cell_type": "code",
   "execution_count": 65,
   "metadata": {},
   "outputs": [
    {
     "name": "stdout",
     "output_type": "stream",
     "text": [
      "0.657578351061662\n"
     ]
    }
   ],
   "source": [
    "# mencari slope\n",
    "slope = nominator / denominator \n",
    "print (slope)"
   ]
  },
  {
   "cell_type": "code",
   "execution_count": 66,
   "metadata": {},
   "outputs": [
    {
     "name": "stdout",
     "output_type": "stream",
     "text": [
      "16.867037535150992\n"
     ]
    }
   ],
   "source": [
    "#mencari intercep\n",
    "intercep = y_mean - (slope * x_mean)\n",
    "print (intercep)"
   ]
  },
  {
   "cell_type": "code",
   "execution_count": 67,
   "metadata": {},
   "outputs": [],
   "source": [
    "# model prediksi setelah ditemukan slope dan intercep\n",
    "y_pred = intercep + slope * df['ukuran']"
   ]
  },
  {
   "cell_type": "code",
   "execution_count": 68,
   "metadata": {},
   "outputs": [
    {
     "data": {
      "image/png": "[encoded data removed]",
      "text/plain": [
       "<Figure size 432x288 with 1 Axes>"
      ]
     },
     "metadata": {
      "needs_background": "light"
     },
     "output_type": "display_data"
    }
   ],
   "source": [
    "plt.scatter (df['ukuran'], df['harga'])\n",
    "plt.plot(df['ukuran'], y_pred, color=\"red\")\n",
    "plt.xlabel (\"ukuran ikan\", fontsize=20)\n",
    "plt.ylabel (\"harga ikan\",fontsize = 20 )\n",
    "plt.show()"
   ]
  },
  {
   "cell_type": "code",
   "execution_count": null,
   "metadata": {},
   "outputs": [],
   "source": []
  }
 ],
 "metadata": {
  "kernelspec": {
   "display_name": "Python 3",
   "language": "python",
   "name": "python3"
  },
  "language_info": {
   "codemirror_mode": {
    "name": "ipython",
    "version": 3
   },
   "file_extension": ".py",
   "mimetype": "text/x-python",
   "name": "python",
   "nbconvert_exporter": "python",
   "pygments_lexer": "ipython3",
   "version": "3.7.4"
  }
 },
 "nbformat": 4,
 "nbformat_minor": 2
}
