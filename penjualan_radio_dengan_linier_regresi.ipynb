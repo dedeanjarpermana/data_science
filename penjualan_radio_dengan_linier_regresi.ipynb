{
 "cells": [
  {
   "cell_type": "markdown",
   "metadata": {
    "id": "-j9vSbq47KWm"
   },
   "source": [
    "# <center>Linear Regression Analysis</center>\n",
    "\n",
    "\n",
    "\n",
    "\n",
    "\n",
    "**Linear regression** is one of the fundamental statistical and machine learning techniques. Whether you want to do statistics, machine learning, or scientific computing, there are good chances that you’ll need it. It’s advisable to learn it first and then proceed towards more complex methods.\n",
    "\n",
    "<img src = \"https://i.imgur.com/CdgWJiM.png\" align = \"center\">\n",
    "\n",
    "First of all, let's us review some basics of Python\n"
   ]
  },
  {
   "cell_type": "markdown",
   "metadata": {
    "id": "Zruvm8MZCBH6"
   },
   "source": [
    "# Linear Regression with One dependent variable"
   ]
  },
  {
   "cell_type": "markdown",
   "metadata": {
    "id": "EmiTiGZWDDx5"
   },
   "source": [
    "Explains about Regressin and matrix"
   ]
  },
  {
   "cell_type": "markdown",
   "metadata": {
    "id": "uKkwDTQFDdAy"
   },
   "source": [
    "**Exercise**\n",
    "\n",
    "First take data of list of cost publicity and the number of sales"
   ]
  },
  {
   "cell_type": "code",
   "execution_count": 5,
   "metadata": {},
   "outputs": [],
   "source": [
    "import numpy\n"
   ]
  },
  {
   "cell_type": "code",
   "execution_count": 6,
   "metadata": {
    "id": "XS_VkwuxFQyS"
   },
   "outputs": [
    {
     "data": {
      "text/html": [
       "<div>\n",
       "<style scoped>\n",
       "    .dataframe tbody tr th:only-of-type {\n",
       "        vertical-align: middle;\n",
       "    }\n",
       "\n",
       "    .dataframe tbody tr th {\n",
       "        vertical-align: top;\n",
       "    }\n",
       "\n",
       "    .dataframe thead th {\n",
       "        text-align: right;\n",
       "    }\n",
       "</style>\n",
       "<table border=\"1\" class=\"dataframe\">\n",
       "  <thead>\n",
       "    <tr style=\"text-align: right;\">\n",
       "      <th></th>\n",
       "      <th>Unnamed: 0</th>\n",
       "      <th>TV</th>\n",
       "      <th>radio</th>\n",
       "      <th>newspaper</th>\n",
       "      <th>sales</th>\n",
       "    </tr>\n",
       "  </thead>\n",
       "  <tbody>\n",
       "    <tr>\n",
       "      <th>0</th>\n",
       "      <td>1</td>\n",
       "      <td>230.1</td>\n",
       "      <td>37.8</td>\n",
       "      <td>69.2</td>\n",
       "      <td>22.1</td>\n",
       "    </tr>\n",
       "    <tr>\n",
       "      <th>1</th>\n",
       "      <td>2</td>\n",
       "      <td>44.5</td>\n",
       "      <td>39.3</td>\n",
       "      <td>45.1</td>\n",
       "      <td>10.4</td>\n",
       "    </tr>\n",
       "    <tr>\n",
       "      <th>2</th>\n",
       "      <td>3</td>\n",
       "      <td>17.2</td>\n",
       "      <td>45.9</td>\n",
       "      <td>69.3</td>\n",
       "      <td>9.3</td>\n",
       "    </tr>\n",
       "    <tr>\n",
       "      <th>3</th>\n",
       "      <td>4</td>\n",
       "      <td>151.5</td>\n",
       "      <td>41.3</td>\n",
       "      <td>58.5</td>\n",
       "      <td>18.5</td>\n",
       "    </tr>\n",
       "    <tr>\n",
       "      <th>4</th>\n",
       "      <td>5</td>\n",
       "      <td>180.8</td>\n",
       "      <td>10.8</td>\n",
       "      <td>58.4</td>\n",
       "      <td>12.9</td>\n",
       "    </tr>\n",
       "  </tbody>\n",
       "</table>\n",
       "</div>"
      ],
      "text/plain": [
       "   Unnamed: 0     TV  radio  newspaper  sales\n",
       "0           1  230.1   37.8       69.2   22.1\n",
       "1           2   44.5   39.3       45.1   10.4\n",
       "2           3   17.2   45.9       69.3    9.3\n",
       "3           4  151.5   41.3       58.5   18.5\n",
       "4           5  180.8   10.8       58.4   12.9"
      ]
     },
     "execution_count": 6,
     "metadata": {},
     "output_type": "execute_result"
    }
   ],
   "source": [
    "import pandas as pd\n",
    "import numpy as np\n",
    "\n",
    "url ='https://bit.ly/3wf5jAy'\n",
    "\n",
    "data=pd.read_csv(url)\n",
    "\n",
    "data.head()"
   ]
  },
  {
   "cell_type": "code",
   "execution_count": 7,
   "metadata": {
    "id": "KAGnwFyrFYGF"
   },
   "outputs": [
    {
     "data": {
      "text/html": [
       "<div>\n",
       "<style scoped>\n",
       "    .dataframe tbody tr th:only-of-type {\n",
       "        vertical-align: middle;\n",
       "    }\n",
       "\n",
       "    .dataframe tbody tr th {\n",
       "        vertical-align: top;\n",
       "    }\n",
       "\n",
       "    .dataframe thead th {\n",
       "        text-align: right;\n",
       "    }\n",
       "</style>\n",
       "<table border=\"1\" class=\"dataframe\">\n",
       "  <thead>\n",
       "    <tr style=\"text-align: right;\">\n",
       "      <th></th>\n",
       "      <th>Unnamed: 0</th>\n",
       "      <th>TV</th>\n",
       "      <th>radio</th>\n",
       "      <th>newspaper</th>\n",
       "      <th>sales</th>\n",
       "    </tr>\n",
       "  </thead>\n",
       "  <tbody>\n",
       "    <tr>\n",
       "      <th>count</th>\n",
       "      <td>200.000000</td>\n",
       "      <td>200.000000</td>\n",
       "      <td>200.000000</td>\n",
       "      <td>200.000000</td>\n",
       "      <td>200.000000</td>\n",
       "    </tr>\n",
       "    <tr>\n",
       "      <th>mean</th>\n",
       "      <td>100.500000</td>\n",
       "      <td>147.042500</td>\n",
       "      <td>23.264000</td>\n",
       "      <td>30.554000</td>\n",
       "      <td>14.022500</td>\n",
       "    </tr>\n",
       "    <tr>\n",
       "      <th>std</th>\n",
       "      <td>57.879185</td>\n",
       "      <td>85.854236</td>\n",
       "      <td>14.846809</td>\n",
       "      <td>21.778621</td>\n",
       "      <td>5.217457</td>\n",
       "    </tr>\n",
       "    <tr>\n",
       "      <th>min</th>\n",
       "      <td>1.000000</td>\n",
       "      <td>0.700000</td>\n",
       "      <td>0.000000</td>\n",
       "      <td>0.300000</td>\n",
       "      <td>1.600000</td>\n",
       "    </tr>\n",
       "    <tr>\n",
       "      <th>25%</th>\n",
       "      <td>50.750000</td>\n",
       "      <td>74.375000</td>\n",
       "      <td>9.975000</td>\n",
       "      <td>12.750000</td>\n",
       "      <td>10.375000</td>\n",
       "    </tr>\n",
       "    <tr>\n",
       "      <th>50%</th>\n",
       "      <td>100.500000</td>\n",
       "      <td>149.750000</td>\n",
       "      <td>22.900000</td>\n",
       "      <td>25.750000</td>\n",
       "      <td>12.900000</td>\n",
       "    </tr>\n",
       "    <tr>\n",
       "      <th>75%</th>\n",
       "      <td>150.250000</td>\n",
       "      <td>218.825000</td>\n",
       "      <td>36.525000</td>\n",
       "      <td>45.100000</td>\n",
       "      <td>17.400000</td>\n",
       "    </tr>\n",
       "    <tr>\n",
       "      <th>max</th>\n",
       "      <td>200.000000</td>\n",
       "      <td>296.400000</td>\n",
       "      <td>49.600000</td>\n",
       "      <td>114.000000</td>\n",
       "      <td>27.000000</td>\n",
       "    </tr>\n",
       "  </tbody>\n",
       "</table>\n",
       "</div>"
      ],
      "text/plain": [
       "       Unnamed: 0          TV       radio   newspaper       sales\n",
       "count  200.000000  200.000000  200.000000  200.000000  200.000000\n",
       "mean   100.500000  147.042500   23.264000   30.554000   14.022500\n",
       "std     57.879185   85.854236   14.846809   21.778621    5.217457\n",
       "min      1.000000    0.700000    0.000000    0.300000    1.600000\n",
       "25%     50.750000   74.375000    9.975000   12.750000   10.375000\n",
       "50%    100.500000  149.750000   22.900000   25.750000   12.900000\n",
       "75%    150.250000  218.825000   36.525000   45.100000   17.400000\n",
       "max    200.000000  296.400000   49.600000  114.000000   27.000000"
      ]
     },
     "execution_count": 7,
     "metadata": {},
     "output_type": "execute_result"
    }
   ],
   "source": [
    "data.describe()"
   ]
  },
  {
   "cell_type": "markdown",
   "metadata": {
    "id": "Kti0AfXDFj14"
   },
   "source": [
    "Get data only for column Cost in TV and Sales"
   ]
  },
  {
   "cell_type": "code",
   "execution_count": 9,
   "metadata": {
    "id": "2raER16QFb0P"
   },
   "outputs": [
    {
     "data": {
      "text/html": [
       "<div>\n",
       "<style scoped>\n",
       "    .dataframe tbody tr th:only-of-type {\n",
       "        vertical-align: middle;\n",
       "    }\n",
       "\n",
       "    .dataframe tbody tr th {\n",
       "        vertical-align: top;\n",
       "    }\n",
       "\n",
       "    .dataframe thead th {\n",
       "        text-align: right;\n",
       "    }\n",
       "</style>\n",
       "<table border=\"1\" class=\"dataframe\">\n",
       "  <thead>\n",
       "    <tr style=\"text-align: right;\">\n",
       "      <th></th>\n",
       "      <th>TV</th>\n",
       "      <th>sales</th>\n",
       "    </tr>\n",
       "  </thead>\n",
       "  <tbody>\n",
       "    <tr>\n",
       "      <th>0</th>\n",
       "      <td>230.1</td>\n",
       "      <td>22.1</td>\n",
       "    </tr>\n",
       "    <tr>\n",
       "      <th>1</th>\n",
       "      <td>44.5</td>\n",
       "      <td>10.4</td>\n",
       "    </tr>\n",
       "    <tr>\n",
       "      <th>2</th>\n",
       "      <td>17.2</td>\n",
       "      <td>9.3</td>\n",
       "    </tr>\n",
       "    <tr>\n",
       "      <th>3</th>\n",
       "      <td>151.5</td>\n",
       "      <td>18.5</td>\n",
       "    </tr>\n",
       "    <tr>\n",
       "      <th>4</th>\n",
       "      <td>180.8</td>\n",
       "      <td>12.9</td>\n",
       "    </tr>\n",
       "    <tr>\n",
       "      <th>5</th>\n",
       "      <td>8.7</td>\n",
       "      <td>7.2</td>\n",
       "    </tr>\n",
       "    <tr>\n",
       "      <th>6</th>\n",
       "      <td>57.5</td>\n",
       "      <td>11.8</td>\n",
       "    </tr>\n",
       "    <tr>\n",
       "      <th>7</th>\n",
       "      <td>120.2</td>\n",
       "      <td>13.2</td>\n",
       "    </tr>\n",
       "    <tr>\n",
       "      <th>8</th>\n",
       "      <td>8.6</td>\n",
       "      <td>4.8</td>\n",
       "    </tr>\n",
       "  </tbody>\n",
       "</table>\n",
       "</div>"
      ],
      "text/plain": [
       "      TV  sales\n",
       "0  230.1   22.1\n",
       "1   44.5   10.4\n",
       "2   17.2    9.3\n",
       "3  151.5   18.5\n",
       "4  180.8   12.9\n",
       "5    8.7    7.2\n",
       "6   57.5   11.8\n",
       "7  120.2   13.2\n",
       "8    8.6    4.8"
      ]
     },
     "execution_count": 9,
     "metadata": {},
     "output_type": "execute_result"
    }
   ],
   "source": [
    "cdf = data[['TV', 'sales']]\n",
    "cdf.head(9)"
   ]
  },
  {
   "cell_type": "markdown",
   "metadata": {
    "id": "j9ZkoamgGLYw"
   },
   "source": [
    "Plot the data Cost in TV vs Sales"
   ]
  },
  {
   "cell_type": "code",
   "execution_count": 11,
   "metadata": {
    "id": "3BzmcXbDGPjT"
   },
   "outputs": [
    {
     "data": {
      "image/png": "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\n",
      "text/plain": [
       "<Figure size 432x288 with 1 Axes>"
      ]
     },
     "metadata": {
      "needs_background": "light"
     },
     "output_type": "display_data"
    }
   ],
   "source": [
    "import matplotlib.pyplot as plt\n",
    "plt.scatter(cdf['TV'],cdf['sales'])\n",
    "plt.xlabel(\"Cost in TV\")\n",
    "plt.ylabel(\"Sales\")\n",
    "plt.show()"
   ]
  },
  {
   "cell_type": "markdown",
   "metadata": {
    "id": "EVNQUzEgGaxt"
   },
   "source": [
    "**Use Least Square Method to find the Linear Regression**\n",
    "\n",
    "First take 80% data as Training Data and 20% as testing data"
   ]
  },
  {
   "cell_type": "code",
   "execution_count": 17,
   "metadata": {
    "id": "OQT4N5eQGi-6"
   },
   "outputs": [],
   "source": [
    "#import numpy as np\n",
    "#msk = np.random.rand(cdf,2) < 0.8\n",
    "#train = cdf[msk]\n",
    "#test = cdf[~msk]\n",
    "#print(train.TV)\n",
    "\n",
    "x_train = cdf['TV'].values[:,np.newaxis]\n",
    "y_train = cdf['sales'].values\n",
    "\n"
   ]
  },
  {
   "cell_type": "markdown",
   "metadata": {
    "id": "4jRtvgXvG69t"
   },
   "source": [
    "In order to approximate the data with line, first consider about the line equation such as\n",
    "\n",
    "<center> $y(x) = a_1 x + a_0$ </center>\n",
    "\n",
    "where $x$ is Cost of publication in TV and $y(x)$ is value of sales.\n",
    "\n",
    "Using **Least Square Method** for each data ($\\forall i \\in \\{1, 2, \\cdots , m\\}$), then the total error can be defined as\n",
    "\n",
    "<center> $E(a_0,a_1) = \\displaystyle\\sum_{i=1}^m |y_i - (a_1 x_i + a_0)|$ </center>\n",
    "\n",
    "As the goal of this problem to have minimum error, then error function $E(a_0,a_1)$ needs to minimize by applying partial derivative for $a_0$ and $a_1$. The problem that the above equation is indifferentiable due to absolute value function is not differentiable at zero, therefore total error is given as\n",
    "\n",
    "<center> $E(a_0,a_1) = \\displaystyle\\sum_{i=1}^m |y_i - (a_1 x_i + a_0)|^2$ </center>\n",
    "\n",
    "Then to minimize the error, \n",
    "\n",
    "<center>$\\displaystyle \\frac{\\partial E}{\\partial a_0}=2\\displaystyle\\sum_{i=1}^m |y_i - (a_1 x_i + a_0)| (-1) =0$</center>\n",
    "\n",
    "and\n",
    "\n",
    "<center>$\\displaystyle \\frac{\\partial E}{\\partial a_1}=2\\displaystyle\\sum_{i=1}^m |y_i - (a_1 x_i + a_0)| (-x_i)=0$</center>\n",
    "\n",
    "Finally, system of equations is obtained as\n",
    "\n",
    "<center>$a_0 \\displaystyle\\sum_{i=1}^m 1 + a_1 \\displaystyle\\sum_{i=1}^m x_i = \\displaystyle\\sum_{i=1}^m y_i$</center>\n",
    "<center>$a_0 \\displaystyle\\sum_{i=1}^m x_i + a_1 \\displaystyle\\sum_{i=1}^m x_i^2 = \\displaystyle\\sum_{i=1}^m y_ix_i$</center>\n",
    "\n",
    "or can be written as\n",
    "\n",
    "<center>$\\left[\\begin{matrix}\n",
    "m & \\displaystyle\\sum_{i=1}^m x_i \\\\\n",
    "\\displaystyle\\sum_{i=1}^m x_i & \\displaystyle\\sum_{i=1}^m x_i^2\n",
    "\\end{matrix}\\right] \\cdot\n",
    "\\left[\\begin{matrix}\n",
    "a_0\\\\\n",
    "a_1\n",
    "\\end{matrix}\\right]=\n",
    "\\left[\\begin{matrix}\n",
    "\\displaystyle\\sum_{i=1}^m y_i\\\\\n",
    "\\displaystyle\\sum_{i=1}^m y_ix_i\n",
    "\\end{matrix}\\right]$\n",
    "</center>\n",
    "\n",
    "Define matrix $A$ and vector $\\vec{b}$ and define the coefficients in $\\vec{x}$ by\n",
    "\n",
    "<center> $A \\cdot \\vec{x} = \\vec{b}$ </center>"
   ]
  },
  {
   "cell_type": "code",
   "execution_count": 23,
   "metadata": {
    "colab": {
     "base_uri": "https://localhost:8080/",
     "height": 68
    },
    "id": "g2NDJcNjHc4-",
    "outputId": "c109e8eb-7c48-4147-bd5e-657d81612ea1"
   },
   "outputs": [
    {
     "name": "stdout",
     "output_type": "stream",
     "text": [
      "[[  200.  29408.5]\n",
      " [29408.5     inf]]\n",
      "[  2804.5  482108.34]\n",
      "0      230.1\n",
      "1       44.5\n",
      "2       17.2\n",
      "3      151.5\n",
      "4      180.8\n",
      "       ...  \n",
      "195     38.2\n",
      "196     94.2\n",
      "197    177.0\n",
      "198    283.6\n",
      "199    232.1\n",
      "Name: TV, Length: 200, dtype: float64\n"
     ]
    }
   ],
   "source": [
    "a11 = len(cdf['TV'])\n",
    "a12 = np.sum(cdf['TV'])\n",
    "a21 = np.sum(cdf['TV'])\n",
    "a22 = np.sum(cdf['TV']**cdf['TV'])\n",
    "\n",
    "b1 =  np.sum(cdf['sales'])\n",
    "b2 = np.sum(cdf['TV']* cdf['sales'])\n",
    "\n",
    "A = np.array([[a11, a12], [a21, a22]])\n",
    "print(A)\n",
    "b = np.array([ b1, b2])\n",
    "print(b)\n",
    "\n",
    "x = cdf['TV']\n",
    "\n",
    "print(x)"
   ]
  },
  {
   "cell_type": "code",
   "execution_count": 27,
   "metadata": {},
   "outputs": [
    {
     "name": "stderr",
     "output_type": "stream",
     "text": [
      "/Users/thepermana/opt/anaconda3/lib/python3.7/site-packages/sklearn/linear_model/least_angle.py:30: DeprecationWarning: `np.float` is a deprecated alias for the builtin `float`. To silence this warning, use `float` by itself. Doing this will not modify any behavior and is safe. If you specifically wanted the numpy scalar type, use `np.float64` here.\n",
      "Deprecated in NumPy 1.20; for more details and guidance: https://numpy.org/devdocs/release/1.20.0-notes.html#deprecations\n",
      "  method='lar', copy_X=True, eps=np.finfo(np.float).eps,\n",
      "/Users/thepermana/opt/anaconda3/lib/python3.7/site-packages/sklearn/linear_model/least_angle.py:167: DeprecationWarning: `np.float` is a deprecated alias for the builtin `float`. To silence this warning, use `float` by itself. Doing this will not modify any behavior and is safe. If you specifically wanted the numpy scalar type, use `np.float64` here.\n",
      "Deprecated in NumPy 1.20; for more details and guidance: https://numpy.org/devdocs/release/1.20.0-notes.html#deprecations\n",
      "  method='lar', copy_X=True, eps=np.finfo(np.float).eps,\n",
      "/Users/thepermana/opt/anaconda3/lib/python3.7/site-packages/sklearn/linear_model/least_angle.py:284: DeprecationWarning: `np.float` is a deprecated alias for the builtin `float`. To silence this warning, use `float` by itself. Doing this will not modify any behavior and is safe. If you specifically wanted the numpy scalar type, use `np.float64` here.\n",
      "Deprecated in NumPy 1.20; for more details and guidance: https://numpy.org/devdocs/release/1.20.0-notes.html#deprecations\n",
      "  eps=np.finfo(np.float).eps, copy_Gram=True, verbose=0,\n",
      "/Users/thepermana/opt/anaconda3/lib/python3.7/site-packages/sklearn/linear_model/least_angle.py:862: DeprecationWarning: `np.float` is a deprecated alias for the builtin `float`. To silence this warning, use `float` by itself. Doing this will not modify any behavior and is safe. If you specifically wanted the numpy scalar type, use `np.float64` here.\n",
      "Deprecated in NumPy 1.20; for more details and guidance: https://numpy.org/devdocs/release/1.20.0-notes.html#deprecations\n",
      "  eps=np.finfo(np.float).eps, copy_X=True, fit_path=True,\n",
      "/Users/thepermana/opt/anaconda3/lib/python3.7/site-packages/sklearn/linear_model/least_angle.py:1101: DeprecationWarning: `np.float` is a deprecated alias for the builtin `float`. To silence this warning, use `float` by itself. Doing this will not modify any behavior and is safe. If you specifically wanted the numpy scalar type, use `np.float64` here.\n",
      "Deprecated in NumPy 1.20; for more details and guidance: https://numpy.org/devdocs/release/1.20.0-notes.html#deprecations\n",
      "  eps=np.finfo(np.float).eps, copy_X=True, fit_path=True,\n",
      "/Users/thepermana/opt/anaconda3/lib/python3.7/site-packages/sklearn/linear_model/least_angle.py:1127: DeprecationWarning: `np.float` is a deprecated alias for the builtin `float`. To silence this warning, use `float` by itself. Doing this will not modify any behavior and is safe. If you specifically wanted the numpy scalar type, use `np.float64` here.\n",
      "Deprecated in NumPy 1.20; for more details and guidance: https://numpy.org/devdocs/release/1.20.0-notes.html#deprecations\n",
      "  eps=np.finfo(np.float).eps, positive=False):\n",
      "/Users/thepermana/opt/anaconda3/lib/python3.7/site-packages/sklearn/linear_model/least_angle.py:1362: DeprecationWarning: `np.float` is a deprecated alias for the builtin `float`. To silence this warning, use `float` by itself. Doing this will not modify any behavior and is safe. If you specifically wanted the numpy scalar type, use `np.float64` here.\n",
      "Deprecated in NumPy 1.20; for more details and guidance: https://numpy.org/devdocs/release/1.20.0-notes.html#deprecations\n",
      "  max_n_alphas=1000, n_jobs=None, eps=np.finfo(np.float).eps,\n",
      "/Users/thepermana/opt/anaconda3/lib/python3.7/site-packages/sklearn/linear_model/least_angle.py:1602: DeprecationWarning: `np.float` is a deprecated alias for the builtin `float`. To silence this warning, use `float` by itself. Doing this will not modify any behavior and is safe. If you specifically wanted the numpy scalar type, use `np.float64` here.\n",
      "Deprecated in NumPy 1.20; for more details and guidance: https://numpy.org/devdocs/release/1.20.0-notes.html#deprecations\n",
      "  max_n_alphas=1000, n_jobs=None, eps=np.finfo(np.float).eps,\n",
      "/Users/thepermana/opt/anaconda3/lib/python3.7/site-packages/sklearn/linear_model/least_angle.py:1738: DeprecationWarning: `np.float` is a deprecated alias for the builtin `float`. To silence this warning, use `float` by itself. Doing this will not modify any behavior and is safe. If you specifically wanted the numpy scalar type, use `np.float64` here.\n",
      "Deprecated in NumPy 1.20; for more details and guidance: https://numpy.org/devdocs/release/1.20.0-notes.html#deprecations\n",
      "  eps=np.finfo(np.float).eps, copy_X=True, positive=False):\n"
     ]
    }
   ],
   "source": [
    "from sklearn.linear_model import LinearRegression"
   ]
  },
  {
   "cell_type": "code",
   "execution_count": 29,
   "metadata": {},
   "outputs": [
    {
     "name": "stdout",
     "output_type": "stream",
     "text": [
      "Coefficient :[0.04753664]\n",
      "Intercept :7.032593549127693\n"
     ]
    }
   ],
   "source": [
    "lm = LinearRegression()\n",
    "lm.fit(x_train,y_train) #fase training\n",
    "print('Coefficient :' + str(lm.coef_))\n",
    "print('Intercept :' + str(lm.intercept_))"
   ]
  },
  {
   "cell_type": "code",
   "execution_count": 41,
   "metadata": {},
   "outputs": [
    {
     "name": "stderr",
     "output_type": "stream",
     "text": [
      "/Users/thepermana/opt/anaconda3/lib/python3.7/site-packages/matplotlib/cbook/__init__.py:1402: FutureWarning: Support for multi-dimensional indexing (e.g. `obj[:, None]`) is deprecated and will be removed in a future version.  Convert to a numpy array before indexing instead.\n",
      "  x[:, None]\n",
      "/Users/thepermana/opt/anaconda3/lib/python3.7/site-packages/matplotlib/axes/_base.py:276: FutureWarning: Support for multi-dimensional indexing (e.g. `obj[:, None]`) is deprecated and will be removed in a future version.  Convert to a numpy array before indexing instead.\n",
      "  x = x[:, np.newaxis]\n",
      "/Users/thepermana/opt/anaconda3/lib/python3.7/site-packages/matplotlib/axes/_base.py:278: FutureWarning: Support for multi-dimensional indexing (e.g. `obj[:, None]`) is deprecated and will be removed in a future version.  Convert to a numpy array before indexing instead.\n",
      "  y = y[:, np.newaxis]\n"
     ]
    },
    {
     "data": {
      "image/png": "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\n",
      "text/plain": [
       "<Figure size 432x288 with 1 Axes>"
      ]
     },
     "metadata": {
      "needs_background": "light"
     },
     "output_type": "display_data"
    }
   ],
   "source": [
    "\n",
    "pb = lm.predict(x_train)\n",
    "data_baru = pd.DataFrame({'x': cdf['TV'],'y':pb})\n",
    "plt.scatter(cdf['TV'],cdf['sales'])\n",
    "plt.plot(data_baru['x'],data_baru['y'],color='red',linewidth=3)\n",
    "plt.xlabel('TV')\n",
    "plt.ylabel('sales')\n",
    "plt.show()"
   ]
  },
  {
   "cell_type": "markdown",
   "metadata": {
    "id": "nYA3tZKyDqf5"
   },
   "source": [
    "**Accuracy**\n",
    "By calculating the error\n",
    "\n",
    "\n",
    "$MSE = \\displaystyle \\frac{1}{m} \\displaystyle \\sum_{i=1}^m |y_i - \\hat{y}_i|^2$\n",
    "<img src = \"https://github.com/dedeanjarpermana/raw_data/blob/main/Screen%20Shot%202021-11-03%20at%2022.46.15.png\" align = \"center\">\n",
    "\n",
    "\n"
   ]
  },
  {
   "cell_type": "markdown",
   "metadata": {
    "id": "dpOdcoydJNCY"
   },
   "source": [
    "Plot the line and the data training"
   ]
  },
  {
   "cell_type": "code",
   "execution_count": 47,
   "metadata": {
    "id": "rbYqYzYuEOtV"
   },
   "outputs": [
    {
     "data": {
      "text/plain": [
       "10.512652915656757"
      ]
     },
     "execution_count": 47,
     "metadata": {},
     "output_type": "execute_result"
    }
   ],
   "source": [
    "\n",
    "m = len(yhat)\n",
    "yi_yhat = cdf['sales']- data_baru['y']\n",
    "MSE = 1/m * (np.sum(abs(yi_yhat *yi_yhat)))\n",
    "\n",
    "#MSE = 1/len(yhat) * (np.sum(abs(pow(cdf['sales']-yhat,2)))\n",
    "\n",
    "MSE"
   ]
  },
  {
   "cell_type": "markdown",
   "metadata": {},
   "source": [
    "# interpretasi nilai MSE\n",
    "\n",
    "\n",
    "semakin kecil (0) nilai MSE, maka, model prediksi semakin baik. Namun jika semakin besar nilai MSE, maka model prediksi yang kita pakai errornya tinggi"
   ]
  },
  {
   "cell_type": "markdown",
   "metadata": {
    "id": "-6BgzBveJZTH"
   },
   
